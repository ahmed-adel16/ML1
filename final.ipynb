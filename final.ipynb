{
 "cells": [
  {
   "cell_type": "markdown",
   "source": [
    "# Importing Required Libraries"
   ]
  },
  {
   "cell_type": "code",
   "execution_count": 10,
   "metadata": {},
   "outputs": [],
   "source": [
    "import pandas as pd\n",
    "import numpy as np\n",
    "from sklearn.model_selection import train_test_split\n",
    "from sklearn.neighbors import KNeighborsClassifier\n",
    "from sklearn.metrics import accuracy_score, precision_score, recall_score, f1_score, confusion_matrix\n",
    "from sklearn.linear_model import LinearRegression, Lasso, Ridge\n",
    "from sklearn.metrics import mean_squared_error, mean_absolute_error\n",
    "from sklearn.preprocessing import StandardScaler\n"
   ]
  },
  {
   "cell_type": "markdown",
   "source": [
    "# Loading and Preprocessing Data"
   ]
  },
  {
   "cell_type": "code",
   "execution_count": null,
   "metadata": {},
   "outputs": [],
   "source": [
    "df = pd.read_csv('data/magic04.data')\n",
    "\n",
    "X = df.iloc[:, :-1]  # Features\n",
    "y = df.iloc[:, -1]   # Target\n",
    "\n",
    "# Split the data into train, temp (val+test)\n",
    "X_train, X_temp, y_train, y_temp = train_test_split(X, y, test_size=0.3, random_state=42)\n",
    "\n",
    "# Split temp into validation and test\n",
    "X_val, X_test, y_val, y_test = train_test_split(X_temp, y_temp, test_size=0.5, random_state=42)\n",
    "\n",
    "scaler = StandardScaler()\n",
    "\n",
    "X_train_scaled = scaler.fit_transform(X_train)\n",
    "X_val_scaled = scaler.transform(X_val)\n",
    "X_test_scaled = scaler.transform(X_test)\n",
    "\n",
    "# Confirming everything is okay (size)\n",
    "print(f'X_train_scaled shape: {X_train_scaled.shape}')\n",
    "print(f'X_val_scaled shape: {X_val_scaled.shape}')\n",
    "print(f'X_test_scaled shape: {X_test_scaled.shape}')\n"
   ]
  },
  {
   "cell_type": "markdown",
   "source": [
    "# K-Nearest Neighbors Classification"
   ]
  },
  {
   "cell_type": "code",
   "execution_count": 12,
   "metadata": {},
   "outputs": [],
   "source": [
    "k_values = [3, 5, 7, 9]\n",
    "classification_results = {}\n",
    "\n",
    "for k in k_values:\n",
    "    knn = KNeighborsClassifier(n_neighbors=k)\n",
    "    knn.fit(X_train, y_train)\n",
    "    y_pred = knn.predict(X_val)\n",
    "\n",
    "    classification_results[k] = {\n",
    "        'accuracy': accuracy_score(y_val, y_pred),\n",
    "        'precision': precision_score(y_val, y_pred, pos_label='g', zero_division=0),\n",
    "        'recall': recall_score(y_val, y_pred, pos_label='g', zero_division=0),\n",
    "        'f1_score': f1_score(y_val, y_pred, pos_label='g', zero_division=0),\n",
    "        'confusion_matrix': confusion_matrix(y_val, y_pred)\n",
    "    }\n",
    "\n",
    "# Display results\n",
    "for k, metrics in classification_results.items():\n",
    "    print(f'\nResults for k = {k}')\n",
    "    for metric, value in metrics.items():\n",
    "        print(f'{metric}: {value}')\n"
   ]
  },
  {
   "cell_type": "markdown",
   "source": [
    "# Regression Models: Linear, Lasso, and Ridge"
   ]
  },
  {
   "cell_type": "code",
   "execution_count": 13,
   "metadata": {},
   "outputs": [],
   "source": [
    "df = pd.read_csv('data/California_Houses.csv')\n",
    "\n",
    "X = df.iloc[:, 1:]  # Features\n",
    "y = df.iloc[:, 0]   # Target (House Value)\n",
    "\n",
    "# Split the data into train, temp (val+test)\n",
    "X_train, X_temp, y_train, y_temp = train_test_split(X, y, test_size=0.3, random_state=42)\n",
    "\n",
    "# Split temp into validation and test\n",
    "X_val, X_test, y_val, y_test = train_test_split(X_temp, y_temp, test_size=0.5, random_state=42)\n",
    "\n",
    "scaler = StandardScaler()\n",
    "X_train = scaler.fit_transform(X_train)\n",
    "X_val = scaler.transform(X_val)\n",
    "X_test = scaler.transform(X_test)\n",
    "\n",
    "# Linear Regression\n",
    "lr_model = LinearRegression()\n",
    "lr_model.fit(X_train, y_train)\n",
    "y_pred_lr = lr_model.predict(X_val)\n",
    "mse_lr = mean_squared_error(y_val, y_pred_lr)\n",
    "mae_lr = mean_absolute_error(y_val, y_pred_lr)\n",
    "\n",
    "# Lasso Regression\n",
    "lasso_model = Lasso(alpha=1.0)\n",
    "lasso_model.fit(X_train, y_train)\n",
    "y_pred_lasso = lasso_model.predict(X_val)\n",
    "mse_lasso = mean_squared_error(y_val, y_pred_lasso)\n",
    "mae_lasso = mean_absolute_error(y_val, y_pred_lasso)\n",
    "\n",
    "# Ridge Regression\n",
    "ridge_model = Ridge(alpha=1.0)\n",
    "ridge_model.fit(X_train, y_train)\n",
    "y_pred_ridge = ridge_model.predict(X_val)\n",
    "mse_ridge = mean_squared_error(y_val, y_pred_ridge)\n",
    "mae_ridge = mean_absolute_error(y_val, y_pred_ridge)\n",
    "\n",
    "# Display results\n",
    "print(f'Linear Regression: MSE = {mse_lr}, MAE = {mae_lr}')\n",
    "print(f'Lasso Regression: MSE = {mse_lasso}, MAE = {mae_lasso}')\n",
    "print(f'Ridge Regression: MSE = {mse_ridge}, MAE = {mae_ridge}')\n"
   ]
  }
 ]
}