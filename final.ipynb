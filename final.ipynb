{
 "cells": [
  {
   "cell_type": "code",
   "execution_count": 10,
   "metadata": {},
   "outputs": [],
   "source": [
    "import pandas as pd\n",
    "import numpy as np\n",
    "from sklearn.model_selection import train_test_split\n",
    "from sklearn.neighbors import KNeighborsClassifier\n",
    "from sklearn.metrics import accuracy_score, precision_score, recall_score, f1_score, confusion_matrix\n",
    "from sklearn.linear_model import LinearRegression, Lasso, Ridge\n",
    "from sklearn.metrics import mean_squared_error, mean_absolute_error\n",
    "from sklearn.preprocessing import StandardScaler\n"
   ]
  },
  {
   "cell_type": "code",
   "execution_count": null,
   "metadata": {},
   "outputs": [
    {
     "name": "stdout",
     "output_type": "stream",
     "text": [
      "X_train_scaled shape: (13313, 10)\n",
      "X_val_scaled shape: (2853, 10)\n",
      "X_test_scaled shape: (2853, 10)\n"
     ]
    }
   ],
   "source": [
    "df = pd.read_csv('data/magic04.data')\n",
    "\n",
    "X = df.iloc[:, :-1]  # Features\n",
    "y = df.iloc[:, -1]   # Target\n",
    "\n",
    "# Split the data into train, temp (val+test)\n",
    "X_train, X_temp, y_train, y_temp = train_test_split(X, y, test_size=0.3, random_state=42)\n",
    "\n",
    "# Split temp into validation and test\n",
    "X_val, X_test, y_val, y_test = train_test_split(X_temp, y_temp, test_size=0.5, random_state=42)\n",
    "\n",
    "scaler = StandardScaler()\n",
    "\n",
    "X_train_scaled = scaler.fit_transform(X_train)\n",
    "X_val_scaled = scaler.transform(X_val)\n",
    "X_test_scaled = scaler.transform(X_test)\n",
    "\n",
    "\n",
    "# Confirming everything is okay (size)\n",
    "print(f\"X_train_scaled shape: {X_train_scaled.shape}\")\n",
    "print(f\"X_val_scaled shape: {X_val_scaled.shape}\")\n",
    "print(f\"X_test_scaled shape: {X_test_scaled.shape}\")\n",
    "\n"
   ]
  },
  {
   "cell_type": "code",
   "execution_count": 12,
   "metadata": {},
   "outputs": [
    {
     "name": "stdout",
     "output_type": "stream",
     "text": [
      "\n",
      "Results for k = 3\n",
      "accuracy: 0.8002103049421662\n",
      "precision: 0.8091127098321343\n",
      "recall: 0.907477138246369\n",
      "f1_score: 0.8554766734279919\n",
      "confusion_matrix: [[1687  172]\n",
      " [ 398  596]]\n",
      "\n",
      "Results for k = 5\n",
      "accuracy: 0.804416403785489\n",
      "precision: 0.8055425082198215\n",
      "recall: 0.9225389994620764\n",
      "f1_score: 0.8600802407221665\n",
      "confusion_matrix: [[1715  144]\n",
      " [ 414  580]]\n",
      "\n",
      "Results for k = 7\n",
      "accuracy: 0.8138801261829653\n",
      "precision: 0.807123034227567\n",
      "recall: 0.9386767079074771\n",
      "f1_score: 0.8679432976871425\n",
      "confusion_matrix: [[1745  114]\n",
      " [ 417  577]]\n",
      "\n",
      "Results for k = 9\n",
      "accuracy: 0.8152821591307395\n",
      "precision: 0.8057851239669421\n",
      "recall: 0.9440559440559441\n",
      "f1_score: 0.8694575179588804\n",
      "confusion_matrix: [[1755  104]\n",
      " [ 423  571]]\n"
     ]
    }
   ],
   "source": [
    "k_values = [3, 5, 7, 9]\n",
    "classification_results = {}\n",
    "\n",
    "for k in k_values:\n",
    "    knn = KNeighborsClassifier(n_neighbors=k)\n",
    "    knn.fit(X_train, y_train)\n",
    "    y_pred = knn.predict(X_val)\n",
    "\n",
    "    classification_results[k] = {\n",
    "        'accuracy': accuracy_score(y_val, y_pred),\n",
    "        'precision': precision_score(y_val, y_pred, pos_label='g', zero_division=0),\n",
    "        'recall': recall_score(y_val, y_pred, pos_label='g', zero_division=0),\n",
    "        'f1_score': f1_score(y_val, y_pred, pos_label='g', zero_division=0),\n",
    "        'confusion_matrix': confusion_matrix(y_val, y_pred)\n",
    "    }\n",
    "\n",
    "# Display results\n",
    "for k, metrics in classification_results.items():\n",
    "    print(f\"\\nResults for k = {k}\")\n",
    "    for metric, value in metrics.items():\n",
    "        print(f\"{metric}: {value}\")\n"
   ]
  },
  {
   "cell_type": "code",
   "execution_count": 13,
   "metadata": {},
   "outputs": [
    {
     "name": "stdout",
     "output_type": "stream",
     "text": [
      "\n",
      "Regression Results:\n",
      "Linear Regression: MSE = 4907211997.37478, MAE = 50790.060271050934\n",
      "Lasso Regression: MSE = 4907228147.161598, MAE = 50790.82762033131\n",
      "Ridge Regression: MSE = 4907281049.444644, MAE = 50793.61026819888\n"
     ]
    },
    {
     "name": "stderr",
     "output_type": "stream",
     "text": [
      "d:\\anaconda3\\Lib\\site-packages\\sklearn\\linear_model\\_coordinate_descent.py:678: ConvergenceWarning: Objective did not converge. You might want to increase the number of iterations, check the scale of the features or consider increasing regularisation. Duality gap: 2.132e+13, tolerance: 1.936e+10\n",
      "  model = cd_fast.enet_coordinate_descent(\n"
     ]
    }
   ],
   "source": [
    "import pandas as pd\n",
    "from sklearn.model_selection import train_test_split\n",
    "from sklearn.preprocessing import StandardScaler\n",
    "from sklearn.linear_model import LinearRegression, Lasso, Ridge\n",
    "from sklearn.metrics import mean_squared_error, mean_absolute_error\n",
    "\n",
    "# Load data\n",
    "df = pd.read_csv('data/California_Houses.csv')\n",
    "\n",
    "X = df.iloc[:, 1:]  # Features\n",
    "y = df.iloc[:, 0]   # Target (House Value)\n",
    "\n",
    "# Split the data into train, temp (val+test)\n",
    "X_train, X_temp, y_train, y_temp = train_test_split(X, y, test_size=0.3, random_state=42)\n",
    "\n",
    "# Split temp into validation and test\n",
    "X_val, X_test, y_val, y_test = train_test_split(X_temp, y_temp, test_size=0.5, random_state=42)\n",
    "\n",
    "# Scale the features (Lasso is sensitive as hell to this)\n",
    "scaler = StandardScaler()\n",
    "X_train = scaler.fit_transform(X_train)\n",
    "X_val = scaler.transform(X_val)\n",
    "X_test = scaler.transform(X_test)\n",
    "\n",
    "# Linear Regression\n",
    "lr_model = LinearRegression()\n",
    "lr_model.fit(X_train, y_train)\n",
    "\n",
    "y_pred_lr = lr_model.predict(X_val)\n",
    "mse_lr = mean_squared_error(y_val, y_pred_lr)\n",
    "mae_lr = mean_absolute_error(y_val, y_pred_lr)\n",
    "\n",
    "# Lasso Regression\n",
    "lasso_model = Lasso(alpha=1.0)\n",
    "lasso_model.fit(X_train, y_train)\n",
    "\n",
    "y_pred_lasso = lasso_model.predict(X_val)\n",
    "mse_lasso = mean_squared_error(y_val, y_pred_lasso)\n",
    "mae_lasso = mean_absolute_error(y_val, y_pred_lasso)\n",
    "\n",
    "# Ridge Regression\n",
    "ridge_model = Ridge(alpha=1.0)\n",
    "ridge_model.fit(X_train, y_train)\n",
    "\n",
    "y_pred_ridge = ridge_model.predict(X_val)\n",
    "mse_ridge = mean_squared_error(y_val, y_pred_ridge)\n",
    "mae_ridge = mean_absolute_error(y_val, y_pred_ridge)\n",
    "\n",
    "# Store all results\n",
    "regression_results = {\n",
    "    'linear': (mse_lr, mae_lr),\n",
    "    'lasso': (mse_lasso, mae_lasso),\n",
    "    'ridge': (mse_ridge, mae_ridge)\n",
    "}\n",
    "\n",
    "# Display results\n",
    "print(\"\\nRegression Results:\")\n",
    "print(f\"Linear Regression: MSE = {mse_lr}, MAE = {mae_lr}\")\n",
    "print(f\"Lasso Regression: MSE = {mse_lasso}, MAE = {mae_lasso}\")\n",
    "print(f\"Ridge Regression: MSE = {mse_ridge}, MAE = {mae_ridge}\")\n"
   ]
  },
  {
   "cell_type": "code",
   "execution_count": 14,
   "metadata": {},
   "outputs": [
    {
     "name": "stdout",
     "output_type": "stream",
     "text": [
      "\n",
      "=== Final Report ===\n",
      "\n",
      "Classification Results Summary\n",
      "\n",
      "k = 3\n",
      "  accuracy: 0.8002103049421662\n",
      "  precision: 0.8091127098321343\n",
      "  recall: 0.907477138246369\n",
      "  f1_score: 0.8554766734279919\n",
      "  confusion_matrix: [[1687  172]\n",
      " [ 398  596]]\n",
      "\n",
      "k = 5\n",
      "  accuracy: 0.804416403785489\n",
      "  precision: 0.8055425082198215\n",
      "  recall: 0.9225389994620764\n",
      "  f1_score: 0.8600802407221665\n",
      "  confusion_matrix: [[1715  144]\n",
      " [ 414  580]]\n",
      "\n",
      "k = 7\n",
      "  accuracy: 0.8138801261829653\n",
      "  precision: 0.807123034227567\n",
      "  recall: 0.9386767079074771\n",
      "  f1_score: 0.8679432976871425\n",
      "  confusion_matrix: [[1745  114]\n",
      " [ 417  577]]\n",
      "\n",
      "k = 9\n",
      "  accuracy: 0.8152821591307395\n",
      "  precision: 0.8057851239669421\n",
      "  recall: 0.9440559440559441\n",
      "  f1_score: 0.8694575179588804\n",
      "  confusion_matrix: [[1755  104]\n",
      " [ 423  571]]\n",
      "\n",
      "Regression Results Summary\n",
      "\n",
      "Linear Regression: MSE = 4907211997.37478, MAE = 50790.060271050934\n",
      "Lasso Regression: MSE = 4907228147.161598, MAE = 50790.82762033131\n",
      "Ridge Regression: MSE = 4907281049.444644, MAE = 50793.61026819888\n",
      "\n"
     ]
    }
   ],
   "source": [
    "print(\"\\n=== Final Report ===\\n\")\n",
    "\n",
    "# Classification Summary\n",
    "print(\"Classification Results Summary\\n\")\n",
    "for k, metrics in classification_results.items():\n",
    "    print(f\"k = {k}\")\n",
    "    for metric, value in metrics.items():\n",
    "        print(f\"  {metric}: {value}\")\n",
    "    print()\n",
    "\n",
    "# Regression Summary\n",
    "print(\"Regression Results Summary\\n\")\n",
    "print(f\"Linear Regression: MSE = {mse_lr}, MAE = {mae_lr}\")\n",
    "print(f\"Lasso Regression: MSE = {mse_lasso}, MAE = {mae_lasso}\")\n",
    "print(f\"Ridge Regression: MSE = {mse_ridge}, MAE = {mae_ridge}\\n\")\n",
    "\n"
   ]
  },
  {
   "cell_type": "code",
   "execution_count": null,
   "metadata": {},
   "outputs": [],
   "source": []
  }
 ],
 "metadata": {
  "kernelspec": {
   "display_name": "base",
   "language": "python",
   "name": "python3"
  },
  "language_info": {
   "codemirror_mode": {
    "name": "ipython",
    "version": 3
   },
   "file_extension": ".py",
   "mimetype": "text/x-python",
   "name": "python",
   "nbconvert_exporter": "python",
   "pygments_lexer": "ipython3",
   "version": "3.12.4"
  }
 },
 "nbformat": 4,
 "nbformat_minor": 2
}
